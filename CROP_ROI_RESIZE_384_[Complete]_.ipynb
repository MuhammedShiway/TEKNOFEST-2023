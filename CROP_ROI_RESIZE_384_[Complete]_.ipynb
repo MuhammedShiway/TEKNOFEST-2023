{
  "nbformat": 4,
  "nbformat_minor": 0,
  "metadata": {
    "colab": {
      "provenance": [],
      "include_colab_link": true
    },
    "kernelspec": {
      "name": "python3",
      "display_name": "Python 3"
    },
    "language_info": {
      "name": "python"
    }
  },
  "cells": [
    {
      "cell_type": "markdown",
      "metadata": {
        "id": "view-in-github",
        "colab_type": "text"
      },
      "source": [
        "<a href=\"https://colab.research.google.com/github/MuhammedShiway/TEKNOFEST-2023/blob/main/CROP_ROI_RESIZE_384_%5BComplete%5D_.ipynb\" target=\"_parent\"><img src=\"https://colab.research.google.com/assets/colab-badge.svg\" alt=\"Open In Colab\"/></a>"
      ]
    },
    {
      "cell_type": "code",
      "source": [
        "import os\n",
        "import cv2\n",
        "import time\n",
        "import numpy as np\n",
        "import pandas as pd\n",
        "import tensorflow as tf\n",
        "from PIL import Image\n",
        "from google.colab import drive\n",
        "import matplotlib.pyplot as plt"
      ],
      "metadata": {
        "id": "_1ugsimLxXzy"
      },
      "execution_count": null,
      "outputs": []
    },
    {
      "cell_type": "code",
      "source": [
        "# Mount Google Drive\n",
        "drive.mount('/content/gdrive')"
      ],
      "metadata": {
        "id": "wkPx8M-7xiM2",
        "colab": {
          "base_uri": "https://localhost:8080/"
        },
        "outputId": "3010d0ce-9f9d-404e-b54e-c722ec9a3163"
      },
      "execution_count": null,
      "outputs": [
        {
          "output_type": "stream",
          "name": "stdout",
          "text": [
            "Mounted at /content/gdrive\n"
          ]
        }
      ]
    },
    {
      "cell_type": "code",
      "source": [
        "folder_path = \"/content/gdrive/My Drive/Colab Notebooks/TÜSEB 2023/1024/PNG1024\"\n",
        "f512 = \"/content/gdrive/My Drive/Colab Notebooks/TÜSEB 2023/384/ALL\"\n",
        "\n",
        "train_dir = \"/content/gdrive/My Drive/Colab Notebooks/TÜSEB 2023/1024/JUST 4\"\n",
        "#val_dir = \"/content/gdrive/My Drive/Colab Notebooks/TÜSEB 2023/1024/JUST 4/VAL\"\n",
        "#c_train_dir = \"/content/gdrive/My Drive/Colab Notebooks/TÜSEB 2023/1024/JUST 4/CTRAIN\"\n",
        "#c_val_dir = \"/content/gdrive/My Drive/Colab Notebooks/TÜSEB 2023/1024/JUST 4/CVAL\"\n",
        "\n",
        "xl_path = \"/content/gdrive/My Drive/Colab Notebooks/TÜSEB 2023/tabdata.xlsx\""
      ],
      "metadata": {
        "id": "-KLJA-42xjTl"
      },
      "execution_count": null,
      "outputs": []
    },
    {
      "cell_type": "code",
      "source": [
        "aug_train = \"/content/gdrive/My Drive/Colab Notebooks/TÜSEB 2023/1024/JUST 4/AUG TRAIN\"\n",
        "aug_val = \"/content/gdrive/My Drive/Colab Notebooks/TÜSEB 2023/1024/JUST 4/AUG VAL\""
      ],
      "metadata": {
        "id": "QzDWUT5gxNvy"
      },
      "execution_count": null,
      "outputs": []
    },
    {
      "cell_type": "markdown",
      "source": [
        "# 384 RESIZE"
      ],
      "metadata": {
        "id": "jG_3z7FVJg89"
      }
    },
    {
      "cell_type": "code",
      "source": [
        "for f in os.listdir(folder_path):\n",
        "  patient_id = f\n",
        "  for a in os.listdir(os.path.join(folder_path, f)):\n",
        "    img_type = a\n",
        "    curr_path = os.path.join(folder_path, patient_id, img_type)\n",
        "    new_path = os.path.join(f512, (str(patient_id) + img_type))\n",
        "\n",
        "    image = Image.open(curr_path)\n",
        "    \n",
        "    # Resize the image+\n",
        "    res_image = image.resize((384, 384))\n",
        "    # Save the resized image\n",
        "    res_image.save(new_path)\n",
        "print(\"OPERATION COMPLETE\")\n"
      ],
      "metadata": {
        "colab": {
          "base_uri": "https://localhost:8080/"
        },
        "id": "N3D18JRvJe81",
        "outputId": "de7e7d38-1509-435e-f419-cb4639c5ad2f"
      },
      "execution_count": null,
      "outputs": [
        {
          "output_type": "stream",
          "name": "stdout",
          "text": [
            "OPERATION COMPLETE\n"
          ]
        }
      ]
    },
    {
      "cell_type": "code",
      "source": [
        "os.listdir(aug_val)"
      ],
      "metadata": {
        "colab": {
          "base_uri": "https://localhost:8080/"
        },
        "id": "w95GxEjFxNql",
        "outputId": "2220954f-e6dd-4426-fb51-199bf549e4b4"
      },
      "execution_count": null,
      "outputs": [
        {
          "output_type": "execute_result",
          "data": {
            "text/plain": [
              "['BI-RADS0', 'BI-RADS1-2', 'BI-RADS4-5']"
            ]
          },
          "metadata": {},
          "execution_count": 5
        }
      ]
    },
    {
      "cell_type": "markdown",
      "source": [
        "# 384 Resize for AUG"
      ],
      "metadata": {
        "id": "HqoSXlkkJWRQ"
      }
    },
    {
      "cell_type": "code",
      "source": [
        "from PIL import Image\n",
        "\n",
        "for i in os.listdir(aug_train):\n",
        "  for j in os.listdir(os.path.join(aug_train, i)):\n",
        "    # We now have the patient folders\n",
        "    for img in os.listdir(os.path.join(aug_train, i, str(j))):\n",
        "      img_path = os.path.join(aug_train, i, str(j), img)\n",
        "      image = Image.open(img_path)\n",
        "\n",
        "      # Resize the image\n",
        "      res_image = image.resize((384, 384))\n",
        "      # Save the resized image\n",
        "      res_image.save(img_path)\n"
      ],
      "metadata": {
        "id": "otXz0t0ixkKk"
      },
      "execution_count": null,
      "outputs": []
    },
    {
      "cell_type": "code",
      "source": [
        "# Load dataset\n",
        "data = pd.read_excel(xl_path)"
      ],
      "metadata": {
        "id": "9wsj5ID1zUQu"
      },
      "execution_count": null,
      "outputs": []
    },
    {
      "cell_type": "code",
      "source": [
        "import os\n",
        "from PIL import Image\n",
        "\n",
        "# Define the paths to the original image folders and the cropped image folders\n",
        "train_dir = train_dir\n",
        "#val_dir = val_dir\n",
        "ctrain_dir = c_train_dir\n",
        "cval_dir = c_val_dir\n",
        "\n",
        "# Define the cropping function\n",
        "def crop_roi(samp_img, top_perc, right_perc, bottom_perc, left_perc, split, birads, subdir):\n",
        "    # Define the path to the original image\n",
        "    image_path = os.path.join(train_dir, split, birads, str(samp_img), subdir + '.png')\n",
        "    # Define the path to the cropped image\n",
        "    os.makedirs(os.path.join(ctrain_dir if 'TRAIN' in split else cval_dir, birads, str(samp_img)), exist_ok=True)\n",
        "    cropped_path = os.path.join(ctrain_dir if 'TRAIN' in split else cval_dir, birads, str(samp_img), subdir + '.png')\n",
        "    # Load the original image\n",
        "    img = Image.open(image_path)\n",
        "    # Get the size of the image\n",
        "    width, height = img.size\n",
        "    # Calculate the coordinates of the bounding box based on the percentage values\n",
        "    left = int(left_perc * width)\n",
        "    top = int(top_perc * height)\n",
        "    right = int(width - (right_perc * width))\n",
        "    bottom = int(height - (bottom_perc * height))\n",
        "    # Crop the image\n",
        "    cropped_img = img.crop((left, top, right, bottom))\n",
        "    # Resize the image to 512x512\n",
        "    cropped_img = cropped_img.resize((512, 512))\n",
        "    # Save the cropped image\n",
        "    cropped_img.save(cropped_path)\n",
        "\n",
        "# Loop over the TRAIN and VAL folders\n",
        "for folder in os.listdir(train_dir):\n",
        "    # Skip any files in the directory\n",
        "    #if not os.path.isdir(os.path.join(train_dir, folder)):\n",
        "    #    continue\n",
        "    # Loop over the subfolders\n",
        "    for subfolder in os.listdir(os.path.join(train_dir, folder)):\n",
        "        # Skip any files in the directory\n",
        "        #if not os.path.isdir(os.path.join(train_dir, folder, subfolder)):\n",
        "        #    continue\n",
        "        # Create the corresponding subfolders in CTRAIN or CVAL\n",
        "        if 'TRAIN' in folder:\n",
        "            os.makedirs(os.path.join(ctrain_dir, subfolder), exist_ok=True)\n",
        "            split = 'TRAIN'\n",
        "        else:\n",
        "            os.makedirs(os.path.join(cval_dir, subfolder), exist_ok=True)\n",
        "            split = 'VAL'\n",
        "        # Loop over the patient folders\n",
        "        for patient in os.listdir(os.path.join(train_dir, folder, subfolder)):\n",
        "            # Skip any files in the directory\n",
        "            if not os.path.isdir(os.path.join(train_dir, folder, subfolder, patient)):\n",
        "                continue\n",
        "            # Crop and save the images\n",
        "            \n",
        "            crop_roi(patient, 0.15, 0.1, 0.1, 0.1, split, subfolder, 'RCC')\n",
        "            crop_roi(patient, 0.15, 0.1, 0.1, 0.1, split, subfolder, 'LCC')\n",
        "            crop_roi(patient, 0.2, 0.1, 0.1, 0.1, split, subfolder, 'RMLO')\n",
        "            crop_roi(patient, 0.2, 0.1, 0.1, 0.1, split, subfolder, 'LMLO')\n",
        "\n",
        "\n",
        "\n"
      ],
      "metadata": {
        "id": "G0dbFW7re-Bm"
      },
      "execution_count": null,
      "outputs": []
    },
    {
      "cell_type": "code",
      "source": [],
      "metadata": {
        "id": "rjLC17f2g-yJ"
      },
      "execution_count": null,
      "outputs": []
    }
  ]
}