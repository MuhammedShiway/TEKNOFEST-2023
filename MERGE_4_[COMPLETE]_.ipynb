{
  "nbformat": 4,
  "nbformat_minor": 0,
  "metadata": {
    "colab": {
      "provenance": [],
      "include_colab_link": true
    },
    "kernelspec": {
      "name": "python3",
      "display_name": "Python 3"
    },
    "language_info": {
      "name": "python"
    }
  },
  "cells": [
    {
      "cell_type": "markdown",
      "metadata": {
        "id": "view-in-github",
        "colab_type": "text"
      },
      "source": [
        "<a href=\"https://colab.research.google.com/github/MuhammedShiway/TEKNOFEST-2023/blob/main/MERGE_4_%5BCOMPLETE%5D_.ipynb\" target=\"_parent\"><img src=\"https://colab.research.google.com/assets/colab-badge.svg\" alt=\"Open In Colab\"/></a>"
      ]
    },
    {
      "cell_type": "code",
      "source": [
        "import os\n",
        "import cv2\n",
        "import time\n",
        "import numpy as np\n",
        "import pandas as pd\n",
        "import tensorflow as tf\n",
        "from google.colab import drive\n",
        "import matplotlib.pyplot as plt"
      ],
      "metadata": {
        "id": "_1ugsimLxXzy"
      },
      "execution_count": null,
      "outputs": []
    },
    {
      "cell_type": "code",
      "source": [
        "# Mount Google Drive\n",
        "drive.mount('/content/gdrive')"
      ],
      "metadata": {
        "id": "wkPx8M-7xiM2",
        "colab": {
          "base_uri": "https://localhost:8080/"
        },
        "outputId": "14211b80-c774-4af1-a51a-88bc6c8a5421"
      },
      "execution_count": null,
      "outputs": [
        {
          "output_type": "stream",
          "name": "stdout",
          "text": [
            "Mounted at /content/gdrive\n"
          ]
        }
      ]
    },
    {
      "cell_type": "code",
      "source": [
        "folder_path = \"/content/gdrive/My Drive/Colab Notebooks/TÜSEB 2023/1024/PNG1024\"\n",
        "birads_path = \"/content/gdrive/My Drive/Colab Notebooks/TÜSEB 2023/1024/MERGE 4/BIRADS\"\n",
        "xl_path = \"/content/gdrive/My Drive/Colab Notebooks/TÜSEB 2023/tabdata.xlsx\""
      ],
      "metadata": {
        "id": "-KLJA-42xjTl"
      },
      "execution_count": null,
      "outputs": []
    },
    {
      "cell_type": "code",
      "source": [
        "# Load dataset\n",
        "data = pd.read_excel(xl_path)"
      ],
      "metadata": {
        "id": "9wsj5ID1zUQu"
      },
      "execution_count": null,
      "outputs": []
    },
    {
      "cell_type": "code",
      "source": [
        "#sample = '845281064'\n",
        "#sample_path = os.path.join(folder_path, sample)\n",
        "#sample_out = combine_images(sample)"
      ],
      "metadata": {
        "id": "vSQxpbjhLqYf"
      },
      "execution_count": null,
      "outputs": []
    },
    {
      "cell_type": "code",
      "execution_count": null,
      "metadata": {
        "id": "vHZ71vb9xM0r"
      },
      "outputs": [],
      "source": [
        "from PIL import Image\n",
        "\n",
        "def combine_images(image_name):\n",
        "  #Read the 4 images\n",
        "  image2 = Image.open(folder_path + '/' + image_name + '/LCC.png')\n",
        "  image1 = Image.open(folder_path + '/' + image_name + '/RCC.png')\n",
        "  image4 = Image.open(folder_path + '/' + image_name + '/LMLO.png')\n",
        "  image3 = Image.open(folder_path + '/' + image_name + '/RMLO.png')\n",
        "  \n",
        "  #resize, first image\n",
        "  \n",
        "  new_image = Image.new('L',(2048, 2048))\n",
        "  new_image.paste(image1,(0,0))\n",
        "  new_image.paste(image2,(1024,0))\n",
        "  new_image.paste(image3,(0,1024))\n",
        "  new_image.paste(image2,(1024,1024))\n",
        "\n",
        "  new_image = new_image.resize((1024, 1024))\n",
        "  return new_image"
      ]
    },
    {
      "cell_type": "markdown",
      "source": [
        "# COMPOSITION MERGING"
      ],
      "metadata": {
        "id": "WxkQl9hljfvk"
      }
    },
    {
      "cell_type": "code",
      "source": [
        "import os\n",
        "import pandas as pd\n",
        "from PIL import Image\n",
        "\n",
        "\n",
        "df = data\n",
        "\n",
        "# Create folders A, B, C, and D if they don't already exist\n",
        "for c in ['A', 'B', 'C', 'D']:\n",
        "    if not os.path.exists(os.path.join(merge_path, c)):\n",
        "        os.makedirs(os.path.join(folder_path, c))\n",
        "\n",
        "# Merge images for each patient and save in the respective class folder\n",
        "start_time = time.time()\n",
        "for index, row in df.iterrows():\n",
        "    image_name = str(row['HASTANO'])\n",
        "    class_name = row['MEME KOMPOZİSYONU']\n",
        "    new_image = combine_images(image_name)\n",
        "    new_image.save(os.path.join(merge_path, class_name, f\"{image_name}.png\"))\n",
        "\n",
        "end_time = time.time()\n",
        "print(\"Total time taken:\", end_time - start_time, \"seconds\")"
      ],
      "metadata": {
        "id": "RI7ntQUp36FS"
      },
      "execution_count": null,
      "outputs": []
    },
    {
      "cell_type": "markdown",
      "source": [
        "# BIRADS MERGING"
      ],
      "metadata": {
        "id": "YeU-aPMbjcVi"
      }
    },
    {
      "cell_type": "code",
      "source": [
        "import os\n",
        "import pandas as pd\n",
        "from PIL import Image\n",
        "\n",
        "\n",
        "df = data\n",
        "\n",
        "# Create folders A, B, C, and D if they don't already exist\n",
        "for c in ['BI-RADS0', 'BI-RADS1-2', 'BI-RADS4-5']:\n",
        "    if not os.path.exists(os.path.join(birads_path, c)):\n",
        "        os.makedirs(os.path.join(birads_path, c))\n",
        "\n",
        "# Merge images for each patient and save in the respective class folder\n",
        "start_time = time.time()\n",
        "for index, row in df.iterrows():\n",
        "    image_name = str(row['HASTANO'])\n",
        "    class_name = row['BIRADS KATEGORİSİ']\n",
        "    if not os.path.exists(os.path.join(birads_path, class_name, f\"{image_name}.png\")):\n",
        "      new_image = combine_images(image_name)\n",
        "      new_image.save(os.path.join(birads_path, class_name, f\"{image_name}.png\"))\n",
        "\n",
        "end_time = time.time()\n",
        "print(\"Total time taken:\", end_time - start_time, \"seconds\")\n",
        "\n"
      ],
      "metadata": {
        "colab": {
          "base_uri": "https://localhost:8080/"
        },
        "id": "ZrFws1CGjUaG",
        "outputId": "f9b19479-e234-4b4a-dde3-990eec0ca4b6"
      },
      "execution_count": null,
      "outputs": [
        {
          "output_type": "stream",
          "name": "stdout",
          "text": [
            "Total time taken: 2344.5678226947784 seconds\n"
          ]
        }
      ]
    },
    {
      "cell_type": "code",
      "source": [
        "for c in ['BI-RADS0', 'BI-RADS1-2', 'BI-RADS4-5']:\n",
        "  print(len(os.listdir(os.path.join(birads_path, c))))\n"
      ],
      "metadata": {
        "colab": {
          "base_uri": "https://localhost:8080/"
        },
        "id": "I8rj1t07rU04",
        "outputId": "ee3bd1e0-a467-4b97-9af3-1a7c20aff936"
      },
      "execution_count": null,
      "outputs": [
        {
          "output_type": "stream",
          "name": "stdout",
          "text": [
            "734\n",
            "1749\n",
            "1496\n"
          ]
        }
      ]
    },
    {
      "cell_type": "markdown",
      "source": [
        "# BIRADS FROM COMPOSTION"
      ],
      "metadata": {
        "id": "YILKlDUDjjMy"
      }
    },
    {
      "cell_type": "code",
      "source": [
        "#BIRADS FOLDER CATEGORIZATION\n",
        "'''\n",
        "import os\n",
        "import pandas as pd\n",
        "import shutil\n",
        "\n",
        "# set the paths to the folders\n",
        "folder_path = \"/content/gdrive/My Drive/Colab Notebooks/TÜSEB 2023/1024/CLASSES\"\n",
        "\n",
        "birads_folder_path = \"/content/gdrive/My Drive/Colab Notebooks/TÜSEB 2023/1024/BIRADS\"\n",
        "\n",
        "# read the Excel file\n",
        "df = data\n",
        "\n",
        "# iterate through each row in the Excel file\n",
        "for index, row in df.iterrows():\n",
        "    # get the filename from the HASTANO column\n",
        "    filename = str(row['HASTANO']) + \".png\"\n",
        "    \n",
        "    # get the source folder name from the first character of the filename\n",
        "    source_folder_name = row['MEME KOMPOZİSYONU']\n",
        "    \n",
        "    # get the BIRADS category from the BIRADS KATEGORİSİ column\n",
        "    birads_category = row['BIRADS KATEGORİSİ']\n",
        "    \n",
        "    # create the source and destination paths\n",
        "    source_path = os.path.join(folder_path, source_folder_name, filename)\n",
        "    destination_path = os.path.join(birads_folder_path, birads_category, filename)\n",
        "    \n",
        "    # copy the file from the source folder to the destination folder\n",
        "    shutil.copyfile(source_path, destination_path)\n",
        "\n",
        "'''\n"
      ],
      "metadata": {
        "id": "h6mh6Ljn45wL"
      },
      "execution_count": null,
      "outputs": []
    },
    {
      "cell_type": "code",
      "source": [],
      "metadata": {
        "id": "udSG6pRgWmpj"
      },
      "execution_count": null,
      "outputs": []
    }
  ]
}