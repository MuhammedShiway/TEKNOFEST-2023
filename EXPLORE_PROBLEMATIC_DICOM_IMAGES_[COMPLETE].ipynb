{
  "nbformat": 4,
  "nbformat_minor": 0,
  "metadata": {
    "colab": {
      "provenance": [],
      "authorship_tag": "ABX9TyN5LJtcnigw7FH8HwjPyMf5",
      "include_colab_link": true
    },
    "kernelspec": {
      "name": "python3",
      "display_name": "Python 3"
    },
    "language_info": {
      "name": "python"
    }
  },
  "cells": [
    {
      "cell_type": "markdown",
      "metadata": {
        "id": "view-in-github",
        "colab_type": "text"
      },
      "source": [
        "<a href=\"https://colab.research.google.com/github/MuhammedShiway/TEKNOFEST-2023/blob/main/EXPLORE_PROBLEMATIC_DICOM_IMAGES_%5BCOMPLETE%5D.ipynb\" target=\"_parent\"><img src=\"https://colab.research.google.com/assets/colab-badge.svg\" alt=\"Open In Colab\"/></a>"
      ]
    },
    {
      "cell_type": "code",
      "source": [
        "!pip install pydicom opencv-python\n"
      ],
      "metadata": {
        "colab": {
          "base_uri": "https://localhost:8080/"
        },
        "id": "Lec6Jz1Du5ze",
        "outputId": "a94a732a-de73-486c-f700-c75a8e7091ab"
      },
      "execution_count": null,
      "outputs": [
        {
          "output_type": "stream",
          "name": "stdout",
          "text": [
            "Looking in indexes: https://pypi.org/simple, https://us-python.pkg.dev/colab-wheels/public/simple/\n",
            "Collecting pydicom\n",
            "  Downloading pydicom-2.3.1-py3-none-any.whl (2.0 MB)\n",
            "\u001b[2K     \u001b[90m━━━━━━━━━━━━━━━━━━━━━━━━━━━━━━━━━━━━━━━━\u001b[0m \u001b[32m2.0/2.0 MB\u001b[0m \u001b[31m20.3 MB/s\u001b[0m eta \u001b[36m0:00:00\u001b[0m\n",
            "\u001b[?25hRequirement already satisfied: opencv-python in /usr/local/lib/python3.8/dist-packages (4.6.0.66)\n",
            "Requirement already satisfied: numpy>=1.17.3 in /usr/local/lib/python3.8/dist-packages (from opencv-python) (1.21.6)\n",
            "Installing collected packages: pydicom\n",
            "Successfully installed pydicom-2.3.1\n",
            "Looking in indexes: https://pypi.org/simple, https://us-python.pkg.dev/colab-wheels/public/simple/\n",
            "Requirement already satisfied: pydicom in /usr/local/lib/python3.8/dist-packages (2.3.1)\n",
            "Requirement already satisfied: opencv-python in /usr/local/lib/python3.8/dist-packages (4.6.0.66)\n",
            "Requirement already satisfied: numpy>=1.14.5 in /usr/local/lib/python3.8/dist-packages (from opencv-python) (1.21.6)\n"
          ]
        }
      ]
    },
    {
      "cell_type": "code",
      "execution_count": null,
      "metadata": {
        "id": "DCpq-x2g8sRq"
      },
      "outputs": [],
      "source": [
        "import os\n",
        "import pydicom\n",
        "import numpy as np\n",
        "import cv2\n",
        "from google.colab import drive\n",
        "import time\n",
        "import matplotlib.pyplot as plt\n",
        "from PIL import Image\n",
        "\n"
      ]
    },
    {
      "cell_type": "code",
      "source": [
        "# Mount Google Drive\n",
        "drive.mount('/content/gdrive')"
      ],
      "metadata": {
        "colab": {
          "base_uri": "https://localhost:8080/"
        },
        "id": "KuGFVSt_vxZH",
        "outputId": "4dc832e1-2f2c-4d7f-815f-cb9f78c32cf5"
      },
      "execution_count": null,
      "outputs": [
        {
          "output_type": "stream",
          "name": "stdout",
          "text": [
            "Drive already mounted at /content/gdrive; to attempt to forcibly remount, call drive.mount(\"/content/gdrive\", force_remount=True).\n"
          ]
        }
      ]
    },
    {
      "cell_type": "code",
      "source": [
        "folder_path = \"/content/gdrive/My Drive/Colab Notebooks/TÜSEB 2023/TEKNOFEST_MG_EGITIM_1\"\n",
        "png1024_path = \"/content/gdrive/My Drive/Colab Notebooks/TÜSEB 2023/PNG1024\"\n"
      ],
      "metadata": {
        "id": "m8QcqNVxFwc4"
      },
      "execution_count": null,
      "outputs": []
    },
    {
      "cell_type": "code",
      "source": [
        "def crop_image(img, show=False):\n",
        "    # Binarize the image\n",
        "    bin_pixels = cv2.threshold(img, 20, 255, cv2.THRESH_BINARY)[1]\n",
        "   \n",
        "    # Make contours around the binarized image, keep only the largest contour\n",
        "    contours, _ = cv2.findContours(bin_pixels, cv2.RETR_EXTERNAL, cv2.CHAIN_APPROX_NONE)\n",
        "    contour = max(contours, key=cv2.contourArea)\n",
        "\n",
        "    # Create a mask from the largest contour\n",
        "    mask = np.zeros(img.shape, np.uint8)\n",
        "    cv2.drawContours(mask, [contour], -1, 255, cv2.FILLED)\n",
        "   \n",
        "    # Use bitwise_and to get masked part of the original image\n",
        "    out = cv2.bitwise_and(img, mask)\n",
        "    \n",
        "    # get bounding box of contour\n",
        "    y1, y2 = np.min(contour[:, :, 1]), np.max(contour[:, :, 1])\n",
        "    x1, x2 = np.min(contour[:, :, 0]), np.max(contour[:, :, 0])\n",
        "    \n",
        "    x1 = int(0.99 * x1)\n",
        "    x2 = int(1.01 * x2)\n",
        "    y1 = int(0.99 * y1)\n",
        "    y2 = int(1.01 * y2)\n",
        "    \n",
        "    if show:\n",
        "        plt.imshow(out[y1:y2, x1:x2], cmap=\"gray\") ; \n",
        "\n",
        "    return out[y1:y2, x1:x2]"
      ],
      "metadata": {
        "id": "rWv-x_ckHiVu"
      },
      "execution_count": null,
      "outputs": []
    },
    {
      "cell_type": "code",
      "source": [
        "image_size = 1024"
      ],
      "metadata": {
        "id": "wxC30i7PMrts"
      },
      "execution_count": null,
      "outputs": []
    },
    {
      "cell_type": "code",
      "source": [
        "\n",
        "def convert_dicom_to_png(dicom_folder_path, png_folder_path):\n",
        "    \"\"\"\n",
        "    Converts DICOM images in a folder to PNG images and saves them to a new folder.\n",
        "    Checks if PNG images for the folder already exist and creates the new folder if necessary.\n",
        "    \"\"\"\n",
        "    # Check if the PNG image folder for the DICOM folder already exists\n",
        "    dicom_folder_name = os.path.basename(dicom_folder_path)\n",
        "    png_folder = os.path.join(png_folder_path, dicom_folder_name)\n",
        "    if os.path.exists(png_folder):\n",
        "        return\n",
        "    else:\n",
        "        os.makedirs(png_folder, exist_ok=True)\n",
        "\n",
        "    # Convert the DICOM images to PNG and save them to the new folder\n",
        "    for dicom_file in os.listdir(dicom_folder_path):\n",
        "        dicom_file_path = os.path.join(dicom_folder_path, dicom_file)\n",
        "\n",
        "        # Check if the file is a directory\n",
        "        if os.path.isdir(dicom_file_path):\n",
        "            continue\n",
        "\n",
        "        # Load the DICOM image\n",
        "        ds = pydicom.dcmread(dicom_file_path)\n",
        "        ###########################################\n",
        "        # Get pixel data\n",
        "        pixel_data = ds.pixel_array\n",
        "\n",
        "        #normalize to range [0, 255]\n",
        "        p_data = (pixel_data - np.min(pixel_data)) / (np.max(pixel_data) - np.min(pixel_data))\n",
        "        p_data = (p_data * 255).astype(np.uint8)\n",
        "\n",
        "        #resize to desired size\n",
        "        res_img = cv2.resize(p_data, (image_size, image_size))\n",
        "\n",
        "        img_mean = res_img.mean()\n",
        "        if img_mean > 125:\n",
        "          res_img = 255 - res_img\n",
        "        else:\n",
        "          res_img = res_img\n",
        "        \n",
        "        #SPECIAL CONDITIONS\n",
        "        if '822670571' in dicom_file_path:\n",
        "          if 'RMLO' in dicom_file_path:\n",
        "            res_img = res_img[:, 400:1024]\n",
        "          elif 'RCC' in dicom_file_path:\n",
        "            res_img = res_img[:, 400:1024]\n",
        "          elif 'LMLO' in dicom_file_path:\n",
        "            res_img = res_img[:, 0:600]\n",
        "          elif 'LCC' in dicom_file_path:\n",
        "            res_img = res_img[:, 0:600]\n",
        "\n",
        "        elif '822688070' in dicom_file_path:\n",
        "          if 'RMLO' in dicom_file_path:\n",
        "            res_img = np.fliplr(res_img)\n",
        "          elif 'RCC' in dicom_file_path:\n",
        "            res_img = np.fliplr(res_img)\n",
        "          elif 'LMLO' in dicom_file_path:\n",
        "            res_img = np.fliplr(res_img)\n",
        "\n",
        "        elif '845283998' in dicom_file_path:\n",
        "          if 'RMLO' in dicom_file_path:\n",
        "            res_img = res_img[:, 500:1024]\n",
        "        \n",
        "        elif '845284962' in dicom_file_path:\n",
        "          if 'LCC' in dicom_file_path:\n",
        "            res_img = res_img[:, 0:520]\n",
        "          elif 'RCC' in dicom_file_path:\n",
        "            res_img = res_img[:, 560:1024]\n",
        "\n",
        "        #If nothing else\n",
        "        else:\n",
        "          res_img = res_img\n",
        "  \n",
        "            \n",
        "\n",
        "        cropped = crop_image(res_img, False)\n",
        "        # Resize the image to 1024x1024\n",
        "        region = cv2.resize(cropped, (image_size, image_size))\n",
        "\n",
        "        # Convert pixel data to image and save as PNG\n",
        "\n",
        "        png_file_path = os.path.join(png_folder, dicom_file.replace(\".dcm\", \".png\"))\n",
        "        cv2.imwrite(png_file_path, region)\n",
        "\n",
        "        #########################################\n",
        "\n",
        "        # Delete them from memory\n",
        "        del ds\n",
        "        del res_img\n",
        "        del region\n",
        "\n",
        "start_time = time.time()\n",
        "#Loop through each sub-folder in the DICOM folder\n",
        "for sub_folder in os.listdir(folder_path):\n",
        "    if sub_folder.endswith(\".xlsx\"):\n",
        "        continue\n",
        "    \n",
        "    sub_folder_path = os.path.join(folder_path, sub_folder)\n",
        "    \n",
        "    # Check if the folder already exists in the PNG folder\n",
        "    png_folder = os.path.join(png1024_path, sub_folder)\n",
        "    if not os.path.exists(png_folder):\n",
        "        # Convert DICOM images to PNG and save them to the new folder\n",
        "        convert_dicom_to_png(sub_folder_path, png1024_path)\n",
        "\n",
        "end_time = time.time()\n",
        "print(\"Total time taken:\", end_time - start_time, \"seconds\")\n"
      ],
      "metadata": {
        "id": "8JXpi_dpSBnh",
        "colab": {
          "base_uri": "https://localhost:8080/"
        },
        "outputId": "daffa3e5-0f81-4d1c-b8f8-4bfdbf84f6ab"
      },
      "execution_count": null,
      "outputs": [
        {
          "output_type": "stream",
          "name": "stdout",
          "text": [
            "Total time taken: 9933.889211416245 seconds\n"
          ]
        }
      ]
    },
    {
      "cell_type": "code",
      "source": [],
      "metadata": {
        "id": "N_nK-cyF0f9k"
      },
      "execution_count": null,
      "outputs": []
    }
  ]
}