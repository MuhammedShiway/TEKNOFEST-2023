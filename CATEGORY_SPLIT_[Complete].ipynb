{
  "nbformat": 4,
  "nbformat_minor": 0,
  "metadata": {
    "colab": {
      "provenance": [],
      "include_colab_link": true
    },
    "kernelspec": {
      "name": "python3",
      "display_name": "Python 3"
    },
    "language_info": {
      "name": "python"
    }
  },
  "cells": [
    {
      "cell_type": "markdown",
      "metadata": {
        "id": "view-in-github",
        "colab_type": "text"
      },
      "source": [
        "<a href=\"https://colab.research.google.com/github/MuhammedShiway/TEKNOFEST-2023/blob/main/CATEGORY_SPLIT_%5BComplete%5D.ipynb\" target=\"_parent\"><img src=\"https://colab.research.google.com/assets/colab-badge.svg\" alt=\"Open In Colab\"/></a>"
      ]
    },
    {
      "cell_type": "code",
      "source": [
        "import os\n",
        "import cv2\n",
        "import time\n",
        "import numpy as np\n",
        "import pandas as pd\n",
        "import tensorflow as tf\n",
        "from google.colab import drive\n",
        "import matplotlib.pyplot as plt"
      ],
      "metadata": {
        "id": "_1ugsimLxXzy"
      },
      "execution_count": null,
      "outputs": []
    },
    {
      "cell_type": "code",
      "source": [
        "# Mount Google Drive\n",
        "drive.mount('/content/gdrive')"
      ],
      "metadata": {
        "id": "wkPx8M-7xiM2",
        "colab": {
          "base_uri": "https://localhost:8080/"
        },
        "outputId": "dbf1a453-0925-4fd9-bcf2-ddaf733662ef"
      },
      "execution_count": null,
      "outputs": [
        {
          "output_type": "stream",
          "name": "stdout",
          "text": [
            "Mounted at /content/gdrive\n"
          ]
        }
      ]
    },
    {
      "cell_type": "code",
      "source": [
        "folder_path = \"/content/gdrive/My Drive/Colab Notebooks/TÜSEB 2023/384/YOLO Cropped\"\n",
        "birads_path = \"/content/gdrive/My Drive/Colab Notebooks/TÜSEB 2023/384/BIRADS/ALL\"\n",
        "composition_path = \"/content/gdrive/My Drive/Colab Notebooks/TÜSEB 2023/384/COMPOSITION/ALL\"\n",
        "xl_path = \"/content/gdrive/My Drive/Colab Notebooks/TÜSEB 2023/tabdata.xlsx\""
      ],
      "metadata": {
        "id": "-KLJA-42xjTl"
      },
      "execution_count": null,
      "outputs": []
    },
    {
      "cell_type": "code",
      "source": [
        "# Load dataset\n",
        "data = pd.read_excel(xl_path)"
      ],
      "metadata": {
        "id": "9wsj5ID1zUQu"
      },
      "execution_count": null,
      "outputs": []
    },
    {
      "cell_type": "code",
      "source": [
        "#CREATE THE BASE DIRECTORIES\n",
        "if not os.path.exists(birads_path):\n",
        "    os.makedirs(birads_path)\n",
        "\n",
        "if not os.path.exists(composition_path):\n",
        "    os.makedirs(composition_path)\n"
      ],
      "metadata": {
        "id": "Oum3HmCQK7cS"
      },
      "execution_count": null,
      "outputs": []
    },
    {
      "cell_type": "code",
      "source": [
        "#sample = '845281064'\n",
        "#sample_path = os.path.join(folder_path, sample)\n",
        "#sample_out = combine_images(sample)"
      ],
      "metadata": {
        "id": "vSQxpbjhLqYf"
      },
      "execution_count": null,
      "outputs": []
    },
    {
      "cell_type": "code",
      "source": [
        "os.listdir(composition_path)"
      ],
      "metadata": {
        "colab": {
          "base_uri": "https://localhost:8080/"
        },
        "id": "ZE49PG1cOHjE",
        "outputId": "1de92ebf-0f0e-454f-a311-dd51c368b403"
      },
      "execution_count": null,
      "outputs": [
        {
          "output_type": "execute_result",
          "data": {
            "text/plain": [
              "[]"
            ]
          },
          "metadata": {},
          "execution_count": 14
        }
      ]
    },
    {
      "cell_type": "markdown",
      "source": [
        "# COMPOSITION MERGING"
      ],
      "metadata": {
        "id": "WxkQl9hljfvk"
      }
    },
    {
      "cell_type": "code",
      "source": [
        "import os\n",
        "import pandas as pd\n",
        "from PIL import Image\n",
        "import shutil\n",
        "\n",
        "\n",
        "df = data\n",
        "\n",
        "# Create folders A, B, C, and D if they don't already exist\n",
        "for c in ['A', 'B', 'C', 'D']:\n",
        "    if not os.path.exists(os.path.join(composition_path, c)):\n",
        "        os.makedirs(os.path.join(composition_path, c))\n",
        "\n",
        "# Copy the folders to the relevant directories\n",
        "start_time = time.time()\n",
        "for index, row in df.iterrows():\n",
        "    image_name = str(row['HASTANO'])\n",
        "    class_name = row['MEME KOMPOZİSYONU']\n",
        "    origin = os.path.join(folder_path, image_name)\n",
        "    dest = os.path.join(composition_path, class_name, image_name)\n",
        "    \n",
        "    if os.path.exists(origin):\n",
        "      shutil.copytree(origin, dest)\n",
        "end_time = time.time()\n",
        "print(\"Total time taken:\", end_time - start_time, \"seconds\")"
      ],
      "metadata": {
        "id": "RI7ntQUp36FS",
        "colab": {
          "base_uri": "https://localhost:8080/"
        },
        "outputId": "90d3c76f-b674-4488-ff27-ef3d1680575d"
      },
      "execution_count": null,
      "outputs": [
        {
          "output_type": "stream",
          "name": "stdout",
          "text": [
            "Total time taken: 5056.3596448898315 seconds\n"
          ]
        }
      ]
    },
    {
      "cell_type": "code",
      "source": [
        "# Get the total number of samples\n",
        "tot = 0\n",
        "for x in os.listdir(composition_path):\n",
        "  curr_path = os.path.join(composition_path, x)\n",
        "  a = len(os.listdir(curr_path))\n",
        "  tot += a\n",
        "\n",
        "print(tot)"
      ],
      "metadata": {
        "colab": {
          "base_uri": "https://localhost:8080/"
        },
        "id": "wKlN26NAPTta",
        "outputId": "486772ba-78ba-4bf3-dde2-c145a0462fe8"
      },
      "execution_count": null,
      "outputs": [
        {
          "output_type": "stream",
          "name": "stdout",
          "text": [
            "3972\n"
          ]
        }
      ]
    },
    {
      "cell_type": "markdown",
      "source": [
        "# BIRADS MERGING"
      ],
      "metadata": {
        "id": "YeU-aPMbjcVi"
      }
    },
    {
      "cell_type": "code",
      "source": [
        "import os\n",
        "import pandas as pd\n",
        "from PIL import Image\n",
        "\n",
        "################################################\n",
        "df = data\n",
        "\n",
        "# Create folders A, B, C, and D if they don't already exist\n",
        "for c in ['BI-RADS0', 'BI-RADS1-2', 'BI-RADS4-5']:\n",
        "    if not os.path.exists(os.path.join(birads_path, c)):\n",
        "        os.makedirs(os.path.join(birads_path, c))\n",
        "\n",
        "# Copy the folders to the relevant directories\n",
        "start_time = time.time()\n",
        "for index, row in df.iterrows():\n",
        "    image_name = str(row['HASTANO'])\n",
        "    class_name = row['BIRADS KATEGORİSİ']\n",
        "    origin = os.path.join(folder_path, image_name)\n",
        "    dest = os.path.join(birads_path, class_name, image_name)\n",
        "    \n",
        "    if os.path.exists(origin):\n",
        "      shutil.copytree(origin, dest)\n",
        "end_time = time.time()\n",
        "print(\"Total time taken:\", end_time - start_time, \"seconds\")"
      ],
      "metadata": {
        "colab": {
          "base_uri": "https://localhost:8080/"
        },
        "id": "ZrFws1CGjUaG",
        "outputId": "8c492503-2abc-46bc-be2a-693367a2960b"
      },
      "execution_count": null,
      "outputs": [
        {
          "output_type": "stream",
          "name": "stdout",
          "text": [
            "Total time taken: 243.59938168525696 seconds\n"
          ]
        }
      ]
    },
    {
      "cell_type": "code",
      "source": [
        "for c in ['BI-RADS0', 'BI-RADS1-2', 'BI-RADS4-5']:\n",
        "  print(len(os.listdir(os.path.join(birads_path, c))))\n"
      ],
      "metadata": {
        "colab": {
          "base_uri": "https://localhost:8080/"
        },
        "id": "I8rj1t07rU04",
        "outputId": "5387ebe5-e0c2-4591-86a1-4e4fb463dc8a"
      },
      "execution_count": null,
      "outputs": [
        {
          "output_type": "stream",
          "name": "stdout",
          "text": [
            "732\n",
            "1745\n",
            "1495\n"
          ]
        }
      ]
    },
    {
      "cell_type": "markdown",
      "source": [
        "# BIRADS FROM COMPOSTION"
      ],
      "metadata": {
        "id": "YILKlDUDjjMy"
      }
    },
    {
      "cell_type": "code",
      "source": [
        "#BIRADS FOLDER CATEGORIZATION\n",
        "'''\n",
        "import os\n",
        "import pandas as pd\n",
        "import shutil\n",
        "\n",
        "# set the paths to the folders\n",
        "folder_path = \"/content/gdrive/My Drive/Colab Notebooks/TÜSEB 2023/1024/CLASSES\"\n",
        "\n",
        "birads_folder_path = \"/content/gdrive/My Drive/Colab Notebooks/TÜSEB 2023/1024/BIRADS\"\n",
        "\n",
        "# read the Excel file\n",
        "df = data\n",
        "\n",
        "# iterate through each row in the Excel file\n",
        "for index, row in df.iterrows():\n",
        "    # get the filename from the HASTANO column\n",
        "    filename = str(row['HASTANO']) + \".png\"\n",
        "    \n",
        "    # get the source folder name from the first character of the filename\n",
        "    source_folder_name = row['MEME KOMPOZİSYONU']\n",
        "    \n",
        "    # get the BIRADS category from the BIRADS KATEGORİSİ column\n",
        "    birads_category = row['BIRADS KATEGORİSİ']\n",
        "    \n",
        "    # create the source and destination paths\n",
        "    source_path = os.path.join(folder_path, source_folder_name, filename)\n",
        "    destination_path = os.path.join(birads_folder_path, birads_category, filename)\n",
        "    \n",
        "    # copy the file from the source folder to the destination folder\n",
        "    shutil.copyfile(source_path, destination_path)\n",
        "\n",
        "'''\n"
      ],
      "metadata": {
        "id": "h6mh6Ljn45wL"
      },
      "execution_count": null,
      "outputs": []
    },
    {
      "cell_type": "code",
      "source": [],
      "metadata": {
        "id": "udSG6pRgWmpj"
      },
      "execution_count": null,
      "outputs": []
    }
  ]
}